{
 "cells": [
  {
   "cell_type": "code",
   "execution_count": 1,
   "id": "31204634",
   "metadata": {},
   "outputs": [],
   "source": [
    "import matplotlib.pyplot as plt\n",
    "import numpy as np\n",
    "import statistics as sts"
   ]
  },
  {
   "cell_type": "code",
   "execution_count": 2,
   "id": "bc59ffa5",
   "metadata": {},
   "outputs": [
    {
     "name": "stdout",
     "output_type": "stream",
     "text": [
      "Altura maxima: 1.3\n",
      "Altura maxima: 1.2\n",
      "Rango: 0.099999905\n",
      "Los 5 estudiantes más altos: [1.29 1.29 1.3  1.3  1.3 ]\n",
      "Los 5 estudiantes más bajos: [1.2  1.21 1.21 1.21 1.21]\n",
      "Estudiantes de 1.25 o más de altura: 18\n",
      "% de estudiantes 1.24 <= x < 1.28 30.0 %\n"
     ]
    }
   ],
   "source": [
    "arg1 = np.loadtxt('./datos0.csv',delimiter=\",\",dtype=np.float32)\n",
    "#print(arg1)\n",
    "print(\"Altura maxima:\", np.max(arg1))\n",
    "print(\"Altura maxima:\", np.min(arg1))\n",
    "print(\"Rango:\", np.max(arg1) - np.min(arg1))\n",
    "arg2 = np.sort(arg1)\n",
    "print(\"Los 5 estudiantes más altos:\", arg2[-5:])\n",
    "print(\"Los 5 estudiantes más bajos:\", arg2[:5])\n",
    "suma1_25 = np.where(arg2 >= 1.25, 1,0).sum()\n",
    "print(\"Estudiantes de 1.25 o más de altura:\", suma1_25)\n",
    "sumaDos = np.where((arg2 >= 1.24) & (arg2 < 1.28),1,0).sum()/30\n",
    "print(\"% de estudiantes 1.24 <= x < 1.28\", sumaDos*100,\"%\")"
   ]
  },
  {
   "cell_type": "code",
   "execution_count": 3,
   "id": "1ff67a45",
   "metadata": {},
   "outputs": [
    {
     "name": "stdout",
     "output_type": "stream",
     "text": [
      "[1.2  1.21 1.22 1.23 1.24 1.25 1.26 1.27 1.28 1.29 1.3 ] [1 4 4 2 1 2 3 3 4 3 3]\n"
     ]
    },
    {
     "data": {
      "image/png": "[encoded data removed]",
      "text/plain": [
       "<Figure size 432x288 with 1 Axes>"
      ]
     },
     "metadata": {
      "needs_background": "light"
     },
     "output_type": "display_data"
    }
   ],
   "source": [
    "fig,ax = plt.subplots()\n",
    "variables,repetidas = np.unique(arg2,return_counts=True)\n",
    "print(variables,repetidas)\n",
    "frecuencias_absolutas_simples = repetidas\n",
    "frecuencias_absolutas_acumuladas = np.cumsum(frecuencias_absolutas_simples)\n",
    "frecuencias_relativas_simples = np.round((frecuencias_absolutas_simples/30)*100,2)\n",
    "frecuencias_relativas_acumuladas = np.cumsum(frecuencias_relativas_simples)\n",
    "#print(frecuencias_absolutas_simples,frecuencias_absolutas_acumuladas,\n",
    "#      frecuencias_relativas_simples, frecuencias_relativas_acumuladas)\n",
    "b = np.append(variables,1.31)\n",
    "frecuencias = ax.hist(arg2,bins=b,linewidth=.5,edgecolor=\"white\")\n",
    "ax.set(xlim=(1.19, 1.32), xticks=np.arange(1.2, 1.32,.01),\n",
    "       ylim=(1, 7), yticks=np.linspace(0, 6, 7,dtype=np.int16))\n",
    "ax.grid()\n",
    "plt.show()"
   ]
  },
  {
   "cell_type": "code",
   "execution_count": 4,
   "id": "4203f620",
   "metadata": {},
   "outputs": [
    {
     "name": "stdout",
     "output_type": "stream",
     "text": [
      "1.253333330154419\n",
      "1.2533334096272786\n",
      "1.2533334\n",
      "1.252927267164492\n",
      "1.252927269471094\n",
      "1.252927267164492\n",
      "1.2525204001195311\n",
      "Mediana: 1.26\n",
      "Moda: 1.21\n",
      "[1.21, 1.22, 1.28]\n",
      "[1.22, 1.26, 1.28]\n",
      "[1.21, 1.22, 1.22, 1.24, 1.26, 1.27, 1.28, 1.29, 1.3]\n",
      "[1.19, 1.2, 1.2, 1.2, 1.21, 1.21, 1.21, 1.21, 1.21, 1.21, 1.21, 1.21, 1.21, 1.21, 1.21, 1.21, 1.21, 1.22, 1.22, 1.22, 1.22, 1.22, 1.22, 1.22, 1.22, 1.22, 1.22, 1.22, 1.22, 1.22, 1.23, 1.23, 1.23, 1.23, 1.23, 1.23, 1.23, 1.24, 1.24, 1.24, 1.25, 1.25, 1.25, 1.25, 1.25, 1.25, 1.26, 1.26, 1.26, 1.26, 1.26, 1.26, 1.26, 1.26, 1.26, 1.26, 1.27, 1.27, 1.27, 1.27, 1.27, 1.27, 1.27, 1.27, 1.27, 1.27, 1.28, 1.28, 1.28, 1.28, 1.28, 1.28, 1.28, 1.28, 1.28, 1.28, 1.28, 1.28, 1.28, 1.29, 1.29, 1.29, 1.29, 1.29, 1.29, 1.29, 1.29, 1.29, 1.3, 1.3, 1.3, 1.3, 1.3, 1.3, 1.3, 1.3, 1.3, 1.3, 1.3]\n"
     ]
    }
   ],
   "source": [
    "ma_agrupados = variables * repetidas\n",
    "print(np.sum(ma_agrupados)/30)\n",
    "print(np.sum(arg2)/30)\n",
    "print(np.mean(arg2))\n",
    "#Media Geométrica datos agrupados\n",
    "media_g_agrupados=np.power(np.product(variables**repetidas),1/30)\n",
    "print(media_g_agrupados)\n",
    "#Media Geométrica de datos no agrupados\n",
    "media_g_noagrupados=np.power(np.product(arg2),1/30)\n",
    "print(media_g_noagrupados)\n",
    "#Media Geométrica con statistics\n",
    "print(sts.geometric_mean(arg2))\n",
    "#Media armónica H\n",
    "print(sts.harmonic_mean(arg2))\n",
    "#Mediana\n",
    "print(\"Mediana:\",np.median(arg2))\n",
    "#Moda\n",
    "print(\"Moda:\",sts.mode(arg2))\n",
    "#Multiples modas (distribución bimodal)\n",
    "print(sts.multimode(arg2))\n",
    "#Cuartiles\n",
    "print([round(q, 2) for q in sts.quantiles(arg2, n=4)])\n",
    "#Deciles\n",
    "print([round(q, 2) for q in sts.quantiles(arg2, n=10)])\n",
    "#percentiles\n",
    "print([round(q, 2) for q in sts.quantiles(arg2, n=100)])"
   ]
  },
  {
   "cell_type": "code",
   "execution_count": null,
   "id": "416aab58",
   "metadata": {},
   "outputs": [],
   "source": []
  }
 ],
 "metadata": {
  "kernelspec": {
   "display_name": "Python 3 (ipykernel)",
   "language": "python",
   "name": "python3"
  },
  "language_info": {
   "codemirror_mode": {
    "name": "ipython",
    "version": 3
   },
   "file_extension": ".py",
   "mimetype": "text/x-python",
   "name": "python",
   "nbconvert_exporter": "python",
   "pygments_lexer": "ipython3",
   "version": "3.9.12"
  }
 },
 "nbformat": 4,
 "nbformat_minor": 5
}
