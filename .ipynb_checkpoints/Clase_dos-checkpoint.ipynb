{
 "cells": [
  {
   "cell_type": "markdown",
   "id": "6ae03c17",
   "metadata": {},
   "source": [
    "# Numpy"
   ]
  },
  {
   "cell_type": "code",
   "execution_count": 1,
   "id": "b0a0c1c2",
   "metadata": {},
   "outputs": [],
   "source": [
    "import numpy as np"
   ]
  },
  {
   "cell_type": "code",
   "execution_count": 2,
   "id": "41a8150b",
   "metadata": {},
   "outputs": [
    {
     "name": "stdout",
     "output_type": "stream",
     "text": [
      "[0 1 2 3 4 5]\n"
     ]
    }
   ],
   "source": [
    "vector = np.array([0,1,2,3,4,5])\n",
    "print(vector)"
   ]
  },
  {
   "cell_type": "code",
   "execution_count": 4,
   "id": "01faf1ca",
   "metadata": {},
   "outputs": [
    {
     "name": "stdout",
     "output_type": "stream",
     "text": [
      "[1. 2. 3. 4. 5.]\n"
     ]
    }
   ],
   "source": [
    "vectorDos = np.array([1,2,3,4,5],dtype = np.float32)\n",
    "print(vectorDos)"
   ]
  },
  {
   "cell_type": "code",
   "execution_count": 11,
   "id": "8126d19d",
   "metadata": {},
   "outputs": [
    {
     "name": "stdout",
     "output_type": "stream",
     "text": [
      "[0.0e+00 0.0e+00 0.0e+00 0.0e+00 6.0e-08 0.0e+00 0.0e+00 0.0e+00 1.2e-07\n",
      " 0.0e+00 0.0e+00 0.0e+00 1.8e-07 0.0e+00 0.0e+00 0.0e+00 2.4e-07 0.0e+00\n",
      " 0.0e+00 0.0e+00 3.0e-07 0.0e+00 0.0e+00 0.0e+00]\n",
      "[1. 2. 3. 4. 5.]\n"
     ]
    }
   ],
   "source": [
    "#CAMBIO DE TIPO\n",
    "vector.dtype = np.float16\n",
    "print(vector)\n",
    "\n",
    "#UNA CORRECTA TRANSFORMACIÓN \n",
    "vectorTres = np.array([1,2,3,4,5])\n",
    "vectorTres = vectorTres.astype(np.float32)\n",
    "print(vectorTres)"
   ]
  },
  {
   "cell_type": "code",
   "execution_count": 13,
   "id": "966487d2",
   "metadata": {},
   "outputs": [
    {
     "name": "stdout",
     "output_type": "stream",
     "text": [
      "4.0\n"
     ]
    }
   ],
   "source": [
    "print(vectorTres[3])"
   ]
  },
  {
   "cell_type": "code",
   "execution_count": 16,
   "id": "410a4ed2",
   "metadata": {},
   "outputs": [
    {
     "name": "stdout",
     "output_type": "stream",
     "text": [
      "[0 1 2 3 4 5 6 7]\n"
     ]
    }
   ],
   "source": [
    "vector4 = np.array([0,1,2,3,4,5,6,7,8,9,10,11,12,13,14,15])\n",
    "print(vector4[0:8])"
   ]
  },
  {
   "cell_type": "code",
   "execution_count": 27,
   "id": "9d590e06",
   "metadata": {},
   "outputs": [
    {
     "name": "stdout",
     "output_type": "stream",
     "text": [
      "[ 0  0 -1]\n",
      "[0 2 5]\n",
      "[ 0 -1 -6]\n",
      "[nan  1.  2.]\n",
      "[0 2 4]\n"
     ]
    },
    {
     "name": "stderr",
     "output_type": "stream",
     "text": [
      "/var/folders/dn/v3j7j9t11g3dtf0cd51607880000gn/T/ipykernel_1108/3991382526.py:7: RuntimeWarning: invalid value encountered in true_divide\n",
      "  print(a/c)\n"
     ]
    }
   ],
   "source": [
    "a = np.array([0,1,2])\n",
    "b = np.array([0,-1,-3])\n",
    "c = np.array([0,1,1])\n",
    "print(a+b)\n",
    "print(a-b)\n",
    "print(a*b)\n",
    "print(a/c)\n",
    "\n",
    "#CONSTANTES\n",
    "print(2*a)"
   ]
  },
  {
   "cell_type": "code",
   "execution_count": 29,
   "id": "968b85ac",
   "metadata": {},
   "outputs": [
    {
     "name": "stdout",
     "output_type": "stream",
     "text": [
      "[False  True  True]\n"
     ]
    }
   ],
   "source": [
    "#OPERCIONES LOGICAS \n",
    "#se ejecuta elemento por elemento y regresa un vector de booleanos\n",
    "demo = a >= 1\n",
    "print(demo)"
   ]
  },
  {
   "cell_type": "code",
   "execution_count": 31,
   "id": "cc2d8a24",
   "metadata": {},
   "outputs": [
    {
     "name": "stdout",
     "output_type": "stream",
     "text": [
      "[1 1 4]\n"
     ]
    }
   ],
   "source": [
    "#POTENCIA\n",
    "print(a**a)"
   ]
  },
  {
   "cell_type": "code",
   "execution_count": 43,
   "id": "d058c236",
   "metadata": {},
   "outputs": [
    {
     "name": "stdout",
     "output_type": "stream",
     "text": [
      "[ 0.          1.07142857  2.14285714  3.21428571  4.28571429  5.35714286\n",
      "  6.42857143  7.5         8.57142857  9.64285714 10.71428571 11.78571429\n",
      " 12.85714286 13.92857143 15.        ]\n"
     ]
    }
   ],
   "source": [
    "#DE UN PUNTO \"A\" A UN PUNTO \"B\" DE UNA RECTA Y LE INDICO CUANTOS SEGMENTOS O\n",
    "#NÚMEROS QUIERO DENTRO DE ESA RECTA\n",
    "#NO SON NUMEROS RANDOM O ALEATORIOS, EXISTE UN ALGORTIMO QUE CALCULA LOS SEGMENTOS\n",
    "#a<=x<=b -->linspace \n",
    "print(np.linspace(0,15,15))"
   ]
  },
  {
   "cell_type": "code",
   "execution_count": 44,
   "id": "630df3d1",
   "metadata": {},
   "outputs": [
    {
     "name": "stdout",
     "output_type": "stream",
     "text": [
      "[0.  0.2 0.4 0.6 0.8]\n"
     ]
    }
   ],
   "source": [
    "#Con arange podemos especificar de cuanto en cuanto queremos ir\n",
    "#a<=x<b -->arange\n",
    "print(np.arange(0,1,.2))"
   ]
  },
  {
   "cell_type": "code",
   "execution_count": 73,
   "id": "ac818da2",
   "metadata": {},
   "outputs": [
    {
     "name": "stdout",
     "output_type": "stream",
     "text": [
      "[[1 2 3]\n",
      " [4 5 6]\n",
      " [7 8 9]]\n",
      "[ 0  1  2  3  4  5  6  7  8  9 10 11 12 13 14 15]\n",
      "\n",
      " (3, 3)\n",
      "(16,)\n",
      "[[1 2 3 4 5 6 7 8 9]]\n",
      "[[ 0  1  2  3  4  5  6  7]\n",
      " [ 8  9 10 11 12 13 14 15]]\n"
     ]
    }
   ],
   "source": [
    "matrix = np.array([[1,2,3],[4,5,6],[7,8,9]])\n",
    "a2 = np.arange(0,16,1)\n",
    "print(matrix)\n",
    "print(a2)\n",
    "#shape es para saber cuantas filas y columnas contiene\n",
    "print(\"\\n\",matrix.shape)\n",
    "print(a2.shape)\n",
    "\n",
    "#REDIMENSIONAMOS LA MATRIZ EN 9 COLUMNAS Y INA FILA\n",
    "nueva = matrix.reshape(1,9)\n",
    "print(nueva)\n",
    "\n",
    "#AL REDIMENSIONAR ES IMPORTANTE\n",
    "nueva2 = a2.reshape(2,8)\n",
    "print(nueva2)\n"
   ]
  },
  {
   "cell_type": "code",
   "execution_count": 77,
   "id": "c1dd48f7",
   "metadata": {},
   "outputs": [
    {
     "name": "stdout",
     "output_type": "stream",
     "text": [
      "(3, 2, 2)\n",
      "[[[34  3]\n",
      "  [67  7]]\n",
      "\n",
      " [[11  2]\n",
      "  [78  3]]\n",
      "\n",
      " [[23 32]\n",
      "  [90  1]]]\n"
     ]
    }
   ],
   "source": [
    "#MATRIZ TRIDIMENSIONAL\n",
    "mt1=[[34,3],[67,7]]\n",
    "mt2=[[11,2],[78,3]]\n",
    "mt3=[[23,32],[90,1]]\n",
    "arr1=np.array([mt1,mt2,mt3])\n",
    "print(arr1.shape)\n",
    "print(arr1)"
   ]
  },
  {
   "cell_type": "code",
   "execution_count": 104,
   "id": "f4edd48b",
   "metadata": {},
   "outputs": [
    {
     "name": "stdout",
     "output_type": "stream",
     "text": [
      "[[1 2 3]\n",
      " [4 5 6]\n",
      " [7 8 9]]\n",
      "(3, 3)\n",
      "[[2 3]\n",
      " [5 6]]\n",
      "--------------------\n",
      "[7 8 9]\n",
      "8\n"
     ]
    }
   ],
   "source": [
    "#INDEXACIÓN DE CORTES\n",
    "m = np.array([[1,2,3],[4,5,6],[7,8,9]])\n",
    "print(m)\n",
    "print(m.shape)\n",
    "\n",
    "#[rango filas, rango columnas, de cuanto en cuanto]\n",
    "c1 = m[:2,1:3]\n",
    "print(c1)\n",
    "\n",
    "print(\"--------------------\")\n",
    "\n",
    "#DEPENDIENDO DE COMO HAGAMOS LOS CORTES HAY QUE VER COMO \n",
    "#ACCEDER A LAS NUEVAS FORMAS CREADAS\n",
    "#YA QUE UN CORTE PUEDE GENERAR UN VECTOR O UNA MATRIZ\n",
    "c2 = m[2]\n",
    "print(c2)\n",
    "c2.shape\n",
    "print(c2[1])"
   ]
  },
  {
   "cell_type": "code",
   "execution_count": 110,
   "id": "69db4b1b",
   "metadata": {},
   "outputs": [
    {
     "name": "stdout",
     "output_type": "stream",
     "text": [
      "[2. 1.]\n",
      "[3. 5.]\n",
      "--------------------\n",
      "(2, 2)\n",
      "(2,)\n"
     ]
    }
   ],
   "source": [
    "#INSERTAMOS EN UN ARREGLO LAS ECUACIONES\n",
    "ecu = np.array([[2,-1],[1,3]])\n",
    "#INSERTAMOS EN UN ARREGLO LA PARTE INDEPENDIENTE DE LAS ECUACIONES\n",
    "ind = np.array([3,5])\n",
    "#CON NUMPY Y SU METODO linalg.solve(ECUACIONES,INDEPENDIENTES)\n",
    "#RESOLVEMOS EL SISTEMA DE ECUACIONES\n",
    "sol = np.linalg.solve(ecu,ind)\n",
    "print(sol)\n",
    "#PARA HACER MUTLIPLICACIÓN DE MATRICEZ se usa el operador @\n",
    "print(ecu@sol)\n",
    "\n",
    "print(\"--------------------\")\n",
    "print(ecu.shape)\n",
    "print(sol.shape)"
   ]
  }
 ],
 "metadata": {
  "kernelspec": {
   "display_name": "Python 3 (ipykernel)",
   "language": "python",
   "name": "python3"
  },
  "language_info": {
   "codemirror_mode": {
    "name": "ipython",
    "version": 3
   },
   "file_extension": ".py",
   "mimetype": "text/x-python",
   "name": "python",
   "nbconvert_exporter": "python",
   "pygments_lexer": "ipython3",
   "version": "3.9.12"
  }
 },
 "nbformat": 4,
 "nbformat_minor": 5
}
