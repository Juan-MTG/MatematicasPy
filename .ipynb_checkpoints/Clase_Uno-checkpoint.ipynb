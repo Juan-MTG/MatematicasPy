{
 "cells": [
  {
   "cell_type": "markdown",
   "id": "8e4b75a0",
   "metadata": {},
   "source": [
    "#Inicio de clase\n",
    "click M ...Texto\n",
    "click DD ... borrar bloque\n",
    "click A ... nuevo bloque"
   ]
  },
  {
   "cell_type": "markdown",
   "id": "8c1df7a3",
   "metadata": {},
   "source": [
    "### TIPO DE DATOS CON PYTHON"
   ]
  },
  {
   "cell_type": "code",
   "execution_count": 7,
   "id": "82ae9973",
   "metadata": {},
   "outputs": [],
   "source": [
    "from decimal import Decimal\n",
    "from decimal import getcontext\n",
    "from decimal import localcontext\n",
    "from fractions import Fraction\n",
    "import math\n",
    "ctx = getcontext()"
   ]
  },
  {
   "cell_type": "markdown",
   "id": "124abe0f",
   "metadata": {},
   "source": [
    "#### DATOS DECIMALES"
   ]
  },
  {
   "cell_type": "code",
   "execution_count": 14,
   "id": "a9722e9f",
   "metadata": {},
   "outputs": [
    {
     "name": "stdout",
     "output_type": "stream",
     "text": [
      "2.04\n"
     ]
    }
   ],
   "source": [
    "num1 = Decimal(\"1.1948584949\")\n",
    "print(num1**4)"
   ]
  },
  {
   "cell_type": "code",
   "execution_count": 15,
   "id": "c5b8ed6f",
   "metadata": {},
   "outputs": [
    {
     "name": "stdout",
     "output_type": "stream",
     "text": [
      "2.04\n"
     ]
    }
   ],
   "source": [
    "ctx.prec=3\n",
    "print(num1**4)"
   ]
  },
  {
   "cell_type": "code",
   "execution_count": 17,
   "id": "52a87088",
   "metadata": {},
   "outputs": [
    {
     "name": "stdout",
     "output_type": "stream",
     "text": [
      "2.0\n",
      "2.04\n"
     ]
    }
   ],
   "source": [
    "#AQUI DECLARAMOS UN CONTEXTO LOCAL PARA OPERACIONES\n",
    "#MÁS PEQUEÑAS QUE NO NECESITAN O REQUIEREN\n",
    "#EL CONTEXTO GENERAL\n",
    "with localcontext() as ctx:\n",
    "    ctx.prec = 2\n",
    "    print(num1**4)\n",
    "print(num1 ** 4)"
   ]
  },
  {
   "cell_type": "markdown",
   "id": "c56d8c45",
   "metadata": {},
   "source": [
    "#### DATOS COMPLEJOS"
   ]
  },
  {
   "cell_type": "code",
   "execution_count": 18,
   "id": "e2c06e2e",
   "metadata": {},
   "outputs": [
    {
     "name": "stdout",
     "output_type": "stream",
     "text": [
      "(4+2j)\n"
     ]
    }
   ],
   "source": [
    "z = 1 + 2j\n",
    "print(z+3)"
   ]
  },
  {
   "cell_type": "markdown",
   "id": "4b100cd2",
   "metadata": {},
   "source": [
    "#### DATOS FRACCIÓN"
   ]
  },
  {
   "cell_type": "code",
   "execution_count": 19,
   "id": "5522d444",
   "metadata": {},
   "outputs": [
    {
     "name": "stdout",
     "output_type": "stream",
     "text": [
      "7/10\n"
     ]
    }
   ],
   "source": [
    "num2 = Fraction(1,2)\n",
    "num3 = Fraction(1,5)\n",
    "print(num2 + num3)"
   ]
  },
  {
   "cell_type": "code",
   "execution_count": 21,
   "id": "c5e67bdf",
   "metadata": {},
   "outputs": [
    {
     "name": "stdout",
     "output_type": "stream",
     "text": [
      "8.0\n"
     ]
    }
   ],
   "source": [
    "print(math.sqrt(64))"
   ]
  },
  {
   "cell_type": "code",
   "execution_count": 23,
   "id": "7dd3c055",
   "metadata": {},
   "outputs": [
    {
     "name": "stdout",
     "output_type": "stream",
     "text": [
      "0.7071067811865475\n",
      "0.7071067811865476\n",
      "0.9999999999999999\n"
     ]
    }
   ],
   "source": [
    "theta = math.pi/4\n",
    "print(math.sin(theta))\n",
    "print(math.cos(theta))\n",
    "print(math.tan(theta))"
   ]
  },
  {
   "cell_type": "markdown",
   "id": "e49a2905",
   "metadata": {},
   "source": [
    "#### DATOS LOGARITMOS"
   ]
  },
  {
   "cell_type": "code",
   "execution_count": 29,
   "id": "fc66da20",
   "metadata": {},
   "outputs": [
    {
     "name": "stdout",
     "output_type": "stream",
     "text": [
      "1.0\n",
      "2.0\n",
      "2.302585092994046\n"
     ]
    }
   ],
   "source": [
    "#log(numero,base)\n",
    "print(math.log(10,10))\n",
    "print(math.log(25,5))\n",
    "print(math.log(10)) #BASE e"
   ]
  },
  {
   "cell_type": "markdown",
   "id": "4d4b9a48",
   "metadata": {},
   "source": [
    "#### MAXIMO COMÚN DIVISOR"
   ]
  },
  {
   "cell_type": "code",
   "execution_count": 31,
   "id": "5dbb2d77",
   "metadata": {},
   "outputs": [
    {
     "name": "stdout",
     "output_type": "stream",
     "text": [
      "1\n"
     ]
    }
   ],
   "source": [
    "print(math.gcd(2,4,8))"
   ]
  },
  {
   "cell_type": "markdown",
   "id": "b829d1c9",
   "metadata": {},
   "source": [
    "#### COMBINACIONES Y PERMUTACIONES"
   ]
  },
  {
   "cell_type": "code",
   "execution_count": 41,
   "id": "ec37f0dd",
   "metadata": {},
   "outputs": [
    {
     "name": "stdout",
     "output_type": "stream",
     "text": [
      "3\n",
      "6\n",
      "24\n"
     ]
    }
   ],
   "source": [
    "#COMBINACIONES LES IMPORTA EL CONTENIDO\n",
    "print(math.comb(3,2))\n",
    "#PERMUTACIONES LES IMPORTA EL ORDEN\n",
    "print(math.perm(3,2))\n",
    "print(math.factorial(4))"
   ]
  },
  {
   "cell_type": "markdown",
   "id": "31be9d29",
   "metadata": {},
   "source": [
    "#### LISTAS"
   ]
  },
  {
   "cell_type": "code",
   "execution_count": 45,
   "id": "56b02650",
   "metadata": {},
   "outputs": [
    {
     "name": "stdout",
     "output_type": "stream",
     "text": [
      "[0.1, 0.1, 0.1, 0.1, 0.1, 0.1, 0.1, 0.1, 0.1, 0.1]\n",
      "0.9999999999999999\n",
      "1.0\n"
     ]
    }
   ],
   "source": [
    "listNum = [.1]*10\n",
    "print(listNum)\n",
    "print(sum(listNum))\n",
    "print(math.fsum(listNum))"
   ]
  },
  {
   "cell_type": "code",
   "execution_count": 48,
   "id": "5a6d2829",
   "metadata": {},
   "outputs": [
    {
     "name": "stdout",
     "output_type": "stream",
     "text": [
      "1\n",
      "2\n"
     ]
    }
   ],
   "source": [
    "print(math.floor(1.999))\n",
    "print(math.ceil(1.3))"
   ]
  }
 ],
 "metadata": {
  "kernelspec": {
   "display_name": "Python 3 (ipykernel)",
   "language": "python",
   "name": "python3"
  },
  "language_info": {
   "codemirror_mode": {
    "name": "ipython",
    "version": 3
   },
   "file_extension": ".py",
   "mimetype": "text/x-python",
   "name": "python",
   "nbconvert_exporter": "python",
   "pygments_lexer": "ipython3",
   "version": "3.9.12"
  }
 },
 "nbformat": 4,
 "nbformat_minor": 5
}
