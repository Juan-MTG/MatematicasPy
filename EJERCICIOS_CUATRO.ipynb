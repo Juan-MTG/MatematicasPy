{
 "cells": [
  {
   "cell_type": "code",
   "execution_count": 1,
   "id": "b4d9e4be",
   "metadata": {},
   "outputs": [],
   "source": [
    "import matplotlib.pyplot as plt\n",
    "import numpy as np\n",
    "import statistics as sts"
   ]
  },
  {
   "cell_type": "code",
   "execution_count": 4,
   "id": "e8e52126",
   "metadata": {},
   "outputs": [
    {
     "name": "stdout",
     "output_type": "stream",
     "text": [
      "--------------------DATOS 1-----------------------\n",
      "[159. 136. 180. 129. 162. 150. 129. 146. 128. 178. 144. 167. 132. 172.\n",
      " 156. 178. 129. 142. 146. 159. 131. 135. 168. 152. 163. 145. 173. 147.\n",
      " 137. 143. 142. 133. 152. 166. 146. 131. 131. 160. 162. 146. 151. 179.\n",
      " 146. 142. 172. 175. 166. 137. 162. 159.]\n",
      "--------------------DATOS 2-----------------------\n",
      "[1.34 1.2  1.41 1.52 1.49 1.3  1.24 1.29 1.53 1.55 1.37 1.56 1.56 1.39\n",
      " 1.39 1.51 1.59 1.54 1.29 1.44 1.5  1.22 1.32 1.42 1.42 1.6  1.58 1.31\n",
      " 1.45 1.29 1.51 1.4  1.29 1.57 1.24 1.44 1.28 1.52 1.49 1.41 1.32 1.31\n",
      " 1.23 1.25 1.57 1.53 1.35 1.57 1.5  1.49]\n"
     ]
    }
   ],
   "source": [
    "dat1 = np.loadtxt('./4D1.csv',delimiter=\" \",dtype=np.float64)\n",
    "dat2 = np.loadtxt('./4D2.csv',delimiter=\" \", dtype=np.float32)\n",
    "print(\"--------------------DATOS 1-----------------------\")\n",
    "print(dat1)\n",
    "print(\"--------------------DATOS 2-----------------------\")\n",
    "print(dat2)"
   ]
  },
  {
   "cell_type": "markdown",
   "id": "332db8a4",
   "metadata": {},
   "source": [
    "### VALOR MÁS GRANDE Y VALOR MÁS PEQUEÑO"
   ]
  },
  {
   "cell_type": "code",
   "execution_count": 5,
   "id": "02d1e4b3",
   "metadata": {},
   "outputs": [
    {
     "name": "stdout",
     "output_type": "stream",
     "text": [
      "--------------------VALOR MÁXIMO-----------------------\n",
      "Valor máximo datos 1: 180.0\n",
      "Valor máximo datos 2: 1.6\n",
      "--------------------VALOR MÍNIMO-----------------------\n",
      "Valor mínimo datos 1: 128.0\n",
      "Valor mínimo datos 2: 1.2\n"
     ]
    }
   ],
   "source": [
    "print(\"--------------------VALOR MÁXIMO-----------------------\")\n",
    "print(\"Valor máximo datos 1:\", np.max(dat1))\n",
    "print(\"Valor máximo datos 2:\", np.max(dat2))\n",
    "print(\"--------------------VALOR MÍNIMO-----------------------\")\n",
    "print(\"Valor mínimo datos 1:\", np.min(dat1))\n",
    "print(\"Valor mínimo datos 2:\", np.min(dat2))\n"
   ]
  },
  {
   "cell_type": "markdown",
   "id": "0026a16b",
   "metadata": {},
   "source": [
    "### CONTADOR"
   ]
  },
  {
   "cell_type": "code",
   "execution_count": 6,
   "id": "86afdc03",
   "metadata": {},
   "outputs": [
    {
     "name": "stdout",
     "output_type": "stream",
     "text": [
      "Estudiantes con un valor mayor o igual a 125 en peso: 50\n",
      "Tornillos con un valor mayor o igual a 1.25: 45\n",
      "Estudiantes con un valor menor o igual a 138 en peso: 13\n",
      "Tornillos con un valor menor o igual a 1.32: 16\n"
     ]
    }
   ],
   "source": [
    "#Crea un arreglo en base a una condicion booleana, devolviendo 1 a los que la cumplan,\n",
    "suma1_d1 = np.where(dat1 >= 125., 1,0).sum()\n",
    "print(\"Estudiantes con un valor mayor o igual a 125 en peso:\", suma1_d1)\n",
    "suma1_d2 = np.where(dat2 >= 1.25, 1,0).sum()\n",
    "print(\"Tornillos con un valor mayor o igual a 1.25:\", suma1_d2)\n",
    "\n",
    "suma2_d1 = np.where(dat1 <= 138., 1,0).sum()\n",
    "print(\"Estudiantes con un valor menor o igual a 138 en peso:\", suma2_d1)\n",
    "suma2_d2 = np.where(dat2 <= 1.32, 1,0).sum()\n",
    "print(\"Tornillos con un valor menor o igual a 1.32:\", suma2_d2)"
   ]
  },
  {
   "cell_type": "markdown",
   "id": "976e94e4",
   "metadata": {},
   "source": [
    "### PORCENTAJE DE VALORES"
   ]
  },
  {
   "cell_type": "code",
   "execution_count": 7,
   "id": "de59b2aa",
   "metadata": {},
   "outputs": [
    {
     "name": "stdout",
     "output_type": "stream",
     "text": [
      "***********ELEMENTOS DENTRO DEL RANGO [129<=x<=146]*******************\n",
      "\n",
      "[array([136., 129., 129., 146., 144., 132., 129., 142., 146., 131., 135.,\n",
      "       145., 137., 143., 142., 133., 146., 131., 131., 146., 146., 142.,\n",
      "       137.])]\n",
      "\n",
      "porcentaje de datos 1 [129<=x<=146] 46.0 %\n",
      "\n",
      "***********ELEMENTOS DENTRO DEL RANGO [1.39< x >=1.41]*******************\n",
      "\n",
      "[array([1.41, 1.52, 1.49, 1.53, 1.55, 1.56, 1.56, 1.51, 1.59, 1.54, 1.44,\n",
      "       1.5 , 1.42, 1.42, 1.6 , 1.58, 1.45, 1.51, 1.57, 1.44, 1.52, 1.49,\n",
      "       1.41, 1.57, 1.53, 1.57, 1.5 , 1.49], dtype=float32)]\n",
      "\n",
      "porcentaje de datos 2 [1.39< x >=1.41] 56.00000000000001 %\n",
      "\n",
      "***********ELEMENTOS DENTRO DEL RANGO [1.39< x <=1.41]*******************\n",
      "\n",
      "[array([1.41, 1.4 , 1.41], dtype=float32)]\n",
      "\n",
      "porcentaje de datos 2 [1.39< x <=1.41] 6.0 %\n"
     ]
    }
   ],
   "source": [
    "#DATOS 1\n",
    "porcentaje1_d1 = np.where((dat1 >= 129) & (dat1 <= 146),1,0).sum()/np.size(dat1)\n",
    "indices1 = np.where((dat1 >= 129) & (dat1 <= 146))\n",
    "print(\"***********ELEMENTOS DENTRO DEL RANGO [129<=x<=146]*******************\\n\")\n",
    "datos = [dat1[i] for i in indices1]\n",
    "print(datos)\n",
    "\n",
    "print(\"\\nporcentaje de datos 1 [129<=x<=146]\", porcentaje1_d1*100,\"%\")\n",
    "\n",
    "#DATOS 2\n",
    "porcentaje1_d2 = np.where((dat2 > 1.39) & (dat2 >= 1.41),1,0).sum()/np.size(dat2)\n",
    "indices2 = np.where((dat2 > 1.39) & (dat2 >= 1.41))\n",
    "\n",
    "print(\"\\n***********ELEMENTOS DENTRO DEL RANGO [1.39< x >=1.41]*******************\\n\")\n",
    "dato2 = [dat2[i] for i in indices2]\n",
    "print(dato2)\n",
    "\n",
    "print(\"\\nporcentaje de datos 2 [1.39< x >=1.41]\", porcentaje1_d2*100,\"%\")\n",
    "\n",
    "print(\"\\n***********ELEMENTOS DENTRO DEL RANGO [1.39< x <=1.41]*******************\\n\")\n",
    "porcentaje1_d3 = np.where((dat2 > 1.39) & (dat2 <= 1.41),1,0).sum()/np.size(dat2)\n",
    "indices3 = np.where((dat2 > 1.39) & (dat2 <= 1.41))\n",
    "dato3 = [dat2[i] for i in indices3]\n",
    "print(dato3)\n",
    "\n",
    "print(\"\\nporcentaje de datos 2 [1.39< x <=1.41]\", porcentaje1_d3*100,\"%\")\n",
    "\n"
   ]
  },
  {
   "cell_type": "markdown",
   "id": "dd15184b",
   "metadata": {},
   "source": [
    "### FRECUENCIAS DATOS 1"
   ]
  },
  {
   "cell_type": "code",
   "execution_count": 8,
   "id": "d67f10da",
   "metadata": {},
   "outputs": [
    {
     "name": "stdout",
     "output_type": "stream",
     "text": [
      "----------------VARIABLES----------------\n",
      " [128. 129. 131. 132. 133. 135. 136. 137. 142. 143. 144. 145. 146. 147.\n",
      " 150. 151. 152. 156. 159. 160. 162. 163. 166. 167. 168. 172. 173. 175.\n",
      " 178. 179. 180.] \n",
      "----------------REPETIDAS----------------\n",
      " [1 3 3 1 1 1 1 2 3 1 1 1 5 1 1 1 2 1 3 1 3 1 2 1 1 2 1 1 2 1 1] \n",
      "----------------FRECUENCIAS ABSOLUTAS SIMPLES----------------\n",
      " [1 3 3 1 1 1 1 2 3 1 1 1 5 1 1 1 2 1 3 1 3 1 2 1 1 2 1 1 2 1 1] \n",
      "----------------FRECUENCIAS ABSOLUTAS ACUMULADAS----------------\n",
      " [ 1  4  7  8  9 10 11 13 16 17 18 19 24 25 26 27 29 30 33 34 37 38 40 41\n",
      " 42 44 45 46 48 49 50] \n",
      "----------------FRECUENCIAS RELATIVAS SIMPLES----------------\n",
      " [ 2.  6.  6.  2.  2.  2.  2.  4.  6.  2.  2.  2. 10.  2.  2.  2.  4.  2.\n",
      "  6.  2.  6.  2.  4.  2.  2.  4.  2.  2.  4.  2.  2.] \n",
      "----------------FRECUENCIAS RELATIVAS ACUMULADAS----------------\n",
      " [  2.   8.  14.  16.  18.  20.  22.  26.  32.  34.  36.  38.  48.  50.\n",
      "  52.  54.  58.  60.  66.  68.  74.  76.  80.  82.  84.  88.  90.  92.\n",
      "  96.  98. 100.]\n"
     ]
    }
   ],
   "source": [
    "variables1,repetidas1 = np.unique(dat1,return_counts=True)\n",
    "frecuencias_absolutas_simples1 = repetidas1\n",
    "frecuencias_absolutas_acumuladas1 = np.cumsum(frecuencias_absolutas_simples1)\n",
    "frecuencias_relativas_simples1 = np.round((frecuencias_absolutas_simples1/np.size(dat1))*100,2)\n",
    "frecuencias_relativas_acumuladas1 = np.cumsum(frecuencias_relativas_simples1)\n",
    "print(\"----------------VARIABLES----------------\\n\",\n",
    "    variables1,\n",
    "      \"\\n----------------REPETIDAS----------------\\n\",\n",
    "    repetidas1,\n",
    "      \"\\n----------------FRECUENCIAS ABSOLUTAS SIMPLES----------------\\n\",\n",
    "    frecuencias_absolutas_simples1,\n",
    "      \"\\n----------------FRECUENCIAS ABSOLUTAS ACUMULADAS----------------\\n\",\n",
    "    frecuencias_absolutas_acumuladas1,\n",
    "      \"\\n----------------FRECUENCIAS RELATIVAS SIMPLES----------------\\n\",\n",
    "    frecuencias_relativas_simples1,\n",
    "      \"\\n----------------FRECUENCIAS RELATIVAS ACUMULADAS----------------\\n\",\n",
    "    frecuencias_relativas_acumuladas1)"
   ]
  },
  {
   "cell_type": "markdown",
   "id": "96aeb0c5",
   "metadata": {},
   "source": [
    "### FRECUENCIAS DATOS 2"
   ]
  },
  {
   "cell_type": "code",
   "execution_count": 9,
   "id": "a14338e8",
   "metadata": {},
   "outputs": [
    {
     "name": "stdout",
     "output_type": "stream",
     "text": [
      "----------------VARIABLES----------------\n",
      " [1.2  1.22 1.23 1.24 1.25 1.28 1.29 1.3  1.31 1.32 1.34 1.35 1.37 1.39\n",
      " 1.4  1.41 1.42 1.44 1.45 1.49 1.5  1.51 1.52 1.53 1.54 1.55 1.56 1.57\n",
      " 1.58 1.59 1.6 ] \n",
      "----------------REPETIDAS----------------\n",
      " [1 1 1 2 1 1 4 1 2 2 1 1 1 2 1 2 2 2 1 3 2 2 2 2 1 1 2 3 1 1 1] \n",
      "----------------FRECUENCIAS ABSOLUTAS SIMPLES----------------\n",
      " [1 1 1 2 1 1 4 1 2 2 1 1 1 2 1 2 2 2 1 3 2 2 2 2 1 1 2 3 1 1 1] \n",
      "----------------FRECUENCIAS ABSOLUTAS ACUMULADAS----------------\n",
      " [ 1  2  3  5  6  7 11 12 14 16 17 18 19 21 22 24 26 28 29 32 34 36 38 40\n",
      " 41 42 44 47 48 49 50] \n",
      "----------------FRECUENCIAS RELATIVAS SIMPLES----------------\n",
      " [2. 2. 2. 4. 2. 2. 8. 2. 4. 4. 2. 2. 2. 4. 2. 4. 4. 4. 2. 6. 4. 4. 4. 4.\n",
      " 2. 2. 4. 6. 2. 2. 2.] \n",
      "----------------FRECUENCIAS RELATIVAS ACUMULADAS----------------\n",
      " [  2.   4.   6.  10.  12.  14.  22.  24.  28.  32.  34.  36.  38.  42.\n",
      "  44.  48.  52.  56.  58.  64.  68.  72.  76.  80.  82.  84.  88.  94.\n",
      "  96.  98. 100.]\n"
     ]
    }
   ],
   "source": [
    "variables2,repetidas2 = np.unique(dat2,return_counts=True)\n",
    "frecuencias_absolutas_simples2 = repetidas2\n",
    "frecuencias_absolutas_acumuladas2 = np.cumsum(frecuencias_absolutas_simples2)\n",
    "frecuencias_relativas_simples2 = np.round((frecuencias_absolutas_simples2/np.size(dat2))*100,2)\n",
    "frecuencias_relativas_acumuladas2 = np.cumsum(frecuencias_relativas_simples2)\n",
    "print(\"----------------VARIABLES----------------\\n\",\n",
    "    variables2,\n",
    "      \"\\n----------------REPETIDAS----------------\\n\",\n",
    "    repetidas2,\n",
    "      \"\\n----------------FRECUENCIAS ABSOLUTAS SIMPLES----------------\\n\",\n",
    "    frecuencias_absolutas_simples2,\n",
    "      \"\\n----------------FRECUENCIAS ABSOLUTAS ACUMULADAS----------------\\n\",\n",
    "    frecuencias_absolutas_acumuladas2,\n",
    "      \"\\n----------------FRECUENCIAS RELATIVAS SIMPLES----------------\\n\",\n",
    "    frecuencias_relativas_simples2,\n",
    "      \"\\n----------------FRECUENCIAS RELATIVAS ACUMULADAS----------------\\n\",\n",
    "    frecuencias_relativas_acumuladas2)"
   ]
  },
  {
   "cell_type": "markdown",
   "id": "2781fc81",
   "metadata": {},
   "source": [
    "### MEDIDAS ESTADÍSTICAS DATOS 1"
   ]
  },
  {
   "cell_type": "code",
   "execution_count": 13,
   "id": "137fb49d",
   "metadata": {},
   "outputs": [
    {
     "name": "stdout",
     "output_type": "stream",
     "text": [
      "--------------MEDIA ARITMÉTICA DE VALORES AGRUPADOS-----------\n",
      "151.48\n",
      "\n",
      "--------------MEDIA ARITMÉTICA DE VALORES NO AGRUPADOS-----------\n",
      "151.48\n",
      "151.48\n",
      "\n",
      "--------------MEDIA GEOMÉTRICA DATOS AGRUPADOS-----------\n",
      "150.68719926634367\n",
      "\n",
      "--------------MEDIA GEOMÉTRICA DATOS NO AGRUPADOS-----------\n",
      "150.68719926634364\n",
      "\n",
      "--------------MEDIA GEOMÉTRICA STATICS-----------\n",
      "150.68719926634367\n",
      "\n",
      "--------------MEDIA ARMÓNICA-----------\n",
      "149.90230829714335\n",
      "\n",
      "--------------MEDIANA-----------\n",
      "148.5\n",
      "\n",
      "--------------MODA-----------\n",
      "146.0\n",
      "\n",
      "--------------MULTIPLES MODAS-----------\n",
      "[146.0]\n",
      "\n",
      "--------------CUARTILES-----------\n",
      "[137.0, 148.5, 163.75]\n",
      "\n",
      "--------------DECILES-----------\n",
      "[131.0, 135.2, 142.0, 146.0, 148.5, 157.8, 162.0, 166.8, 174.8]\n",
      "\n",
      "--------------PERCENTILES-----------\n",
      "[127.51, 128.02, 128.53, 129.0, 129.0, 129.0, 129.0, 129.16, 130.18, 131.0, 131.0, 131.0, 131.0, 131.14, 131.65, 132.16, 132.67, 133.36, 134.38, 135.2, 135.71, 136.22, 136.73, 137.0, 137.0, 138.3, 140.85, 142.0, 142.0, 142.0, 142.0, 142.32, 142.83, 143.34, 143.85, 144.36, 144.87, 145.38, 145.89, 146.0, 146.0, 146.0, 146.0, 146.0, 146.0, 146.0, 146.0, 146.48, 146.99, 148.5, 150.01, 150.52, 151.03, 151.54, 152.0, 152.0, 152.28, 154.32, 156.27, 157.8, 159.0, 159.0, 159.0, 159.0, 159.15, 159.66, 160.34, 161.36, 162.0, 162.0, 162.0, 162.0, 162.23, 162.74, 163.75, 165.28, 166.0, 166.0, 166.29, 166.8, 167.31, 167.82, 169.32, 171.36, 172.0, 172.0, 172.37, 172.88, 173.78, 174.8, 176.23, 177.76, 178.0, 178.0, 178.45, 178.96, 179.47, 179.98, 180.49]\n"
     ]
    }
   ],
   "source": [
    "#Media aritmética valores agrupados\n",
    "ma_agrupados1 = variables1 * repetidas1\n",
    "print(\"--------------MEDIA ARITMÉTICA DE VALORES AGRUPADOS-----------\")\n",
    "print(np.sum(ma_agrupados1)/np.size(dat1))\n",
    "\n",
    "#Media aritmética de valores no agrupados\n",
    "print(\"\\n--------------MEDIA ARITMÉTICA DE VALORES NO AGRUPADOS-----------\")\n",
    "print(np.sum(dat1)/np.size(dat1))\n",
    "print(np.mean(dat1))\n",
    "\n",
    "#Media Geométrica datos agrupados\n",
    "print(\"\\n--------------MEDIA GEOMÉTRICA DATOS AGRUPADOS-----------\")\n",
    "media_g_agrupados1=np.power(np.product(variables1**repetidas1),1/np.size(dat1))\n",
    "print(media_g_agrupados1)\n",
    "\n",
    "#Media Geométrica de datos no agrupados\n",
    "print(\"\\n--------------MEDIA GEOMÉTRICA DATOS NO AGRUPADOS-----------\")\n",
    "media_g_noagrupados1=np.power(np.product(dat1),1/np.size(dat1))\n",
    "print(media_g_noagrupados1)\n",
    "\n",
    "#Media Geométrica con statistics\n",
    "print(\"\\n--------------MEDIA GEOMÉTRICA STATICS-----------\")\n",
    "print(sts.geometric_mean(dat1))\n",
    "\n",
    "#Media Armónica H\n",
    "print(\"\\n--------------MEDIA ARMÓNICA-----------\")\n",
    "print(sts.harmonic_mean(dat1))\n",
    "\n",
    "#Mediana\n",
    "print(\"\\n--------------MEDIANA-----------\")\n",
    "print(np.median(dat1))\n",
    "\n",
    "#Moda\n",
    "print(\"\\n--------------MODA-----------\")\n",
    "print(sts.mode(dat1))\n",
    "\n",
    "#Multiples modas (distribución bimodal)\n",
    "print(\"\\n--------------MULTIPLES MODAS-----------\")\n",
    "print(sts.multimode(dat1))\n",
    "\n",
    "#Cuartiles\n",
    "print(\"\\n--------------CUARTILES-----------\")\n",
    "print([round(q, 2) for q in sts.quantiles(dat1, n=4)])\n",
    "\n",
    "#Deciles\n",
    "print(\"\\n--------------DECILES-----------\")\n",
    "print([round(q, 2) for q in sts.quantiles(dat1, n=10)])\n",
    "\n",
    "#percentiles\n",
    "print(\"\\n--------------PERCENTILES-----------\")\n",
    "print([round(q, 2) for q in sts.quantiles(dat1, n=100)])"
   ]
  },
  {
   "cell_type": "markdown",
   "id": "bb61b6e9",
   "metadata": {},
   "source": [
    "### MEDIDAS ESTADÍSTICAS DATOS 2"
   ]
  },
  {
   "cell_type": "code",
   "execution_count": 14,
   "id": "29aaca4b",
   "metadata": {},
   "outputs": [
    {
     "name": "stdout",
     "output_type": "stream",
     "text": [
      "--------------MEDIA ARITMÉTICA DE VALORES AGRUPADOS-----------\n",
      "1.417799997329712\n",
      "\n",
      "--------------MEDIA ARITMÉTICA DE VALORES NO AGRUPADOS-----------\n",
      "1.4177999877929688\n",
      "1.4178\n",
      "\n",
      "--------------MEDIA GEOMÉTRICA DATOS AGRUPADOS-----------\n",
      "1.4128346475780003\n",
      "\n",
      "--------------MEDIA GEOMÉTRICA DATOS NO AGRUPADOS-----------\n",
      "1.412834644503995\n",
      "\n",
      "--------------MEDIA GEOMÉTRICA STATICS-----------\n",
      "1.4128346475780003\n",
      "\n",
      "--------------MEDIA ARMÓNICA-----------\n",
      "1.4078154270102639\n",
      "\n",
      "--------------MEDIANA-----------\n",
      "1.42\n",
      "\n",
      "--------------MODA-----------\n",
      "1.29\n",
      "\n",
      "--------------MULTIPLES MODAS-----------\n",
      "[1.29]\n",
      "\n",
      "--------------CUARTILES-----------\n",
      "[1.31, 1.42, 1.52]\n",
      "\n",
      "--------------DECILES-----------\n",
      "[1.24, 1.29, 1.32, 1.39, 1.42, 1.49, 1.51, 1.54, 1.57]\n",
      "\n",
      "--------------PERCENTILES-----------\n",
      "[1.19, 1.2, 1.21, 1.22, 1.23, 1.23, 1.24, 1.24, 1.24, 1.24, 1.25, 1.25, 1.27, 1.28, 1.29, 1.29, 1.29, 1.29, 1.29, 1.29, 1.29, 1.29, 1.3, 1.3, 1.31, 1.31, 1.31, 1.31, 1.32, 1.32, 1.32, 1.33, 1.34, 1.34, 1.35, 1.36, 1.37, 1.38, 1.39, 1.39, 1.39, 1.39, 1.4, 1.4, 1.41, 1.41, 1.41, 1.41, 1.42, 1.42, 1.42, 1.43, 1.44, 1.44, 1.44, 1.45, 1.45, 1.47, 1.49, 1.49, 1.49, 1.49, 1.49, 1.5, 1.5, 1.5, 1.5, 1.51, 1.51, 1.51, 1.51, 1.52, 1.52, 1.52, 1.52, 1.53, 1.53, 1.53, 1.53, 1.54, 1.54, 1.55, 1.55, 1.56, 1.56, 1.56, 1.56, 1.57, 1.57, 1.57, 1.57, 1.57, 1.57, 1.58, 1.58, 1.59, 1.59, 1.6, 1.6]\n"
     ]
    }
   ],
   "source": [
    "#Media aritmética valores agrupados\n",
    "ma_agrupados2 = variables2 * repetidas2\n",
    "print(\"--------------MEDIA ARITMÉTICA DE VALORES AGRUPADOS-----------\")\n",
    "print(np.sum(ma_agrupados2)/np.size(dat2))\n",
    "\n",
    "#Media aritmética de valores no agrupados\n",
    "print(\"\\n--------------MEDIA ARITMÉTICA DE VALORES NO AGRUPADOS-----------\")\n",
    "print(np.sum(dat2)/np.size(dat2))\n",
    "print(np.mean(dat2))\n",
    "\n",
    "#Media Geométrica datos agrupados\n",
    "print(\"\\n--------------MEDIA GEOMÉTRICA DATOS AGRUPADOS-----------\")\n",
    "media_g_agrupados2=np.power(np.product(variables2**repetidas2),1/np.size(dat2))\n",
    "print(media_g_agrupados2)\n",
    "\n",
    "#Media Geométrica de datos no agrupados\n",
    "print(\"\\n--------------MEDIA GEOMÉTRICA DATOS NO AGRUPADOS-----------\")\n",
    "media_g_noagrupados2=np.power(np.product(dat2),1/np.size(dat2))\n",
    "print(media_g_noagrupados2)\n",
    "\n",
    "#Media Geométrica con statistics\n",
    "print(\"\\n--------------MEDIA GEOMÉTRICA STATICS-----------\")\n",
    "print(sts.geometric_mean(dat2))\n",
    "\n",
    "#Media Armónica H\n",
    "print(\"\\n--------------MEDIA ARMÓNICA-----------\")\n",
    "print(sts.harmonic_mean(dat2))\n",
    "\n",
    "#Mediana\n",
    "print(\"\\n--------------MEDIANA-----------\")\n",
    "print(np.median(dat2))\n",
    "\n",
    "#Moda\n",
    "print(\"\\n--------------MODA-----------\")\n",
    "print(sts.mode(dat2))\n",
    "\n",
    "#Multiples modas (distribución bimodal)\n",
    "print(\"\\n--------------MULTIPLES MODAS-----------\")\n",
    "print(sts.multimode(dat2))\n",
    "\n",
    "#Cuartiles\n",
    "print(\"\\n--------------CUARTILES-----------\")\n",
    "print([round(q, 2) for q in sts.quantiles(dat2, n=4)])\n",
    "\n",
    "#Deciles\n",
    "print(\"\\n--------------DECILES-----------\")\n",
    "print([round(q, 2) for q in sts.quantiles(dat2, n=10)])\n",
    "\n",
    "#percentiles\n",
    "print(\"\\n--------------PERCENTILES-----------\")\n",
    "print([round(q, 2) for q in sts.quantiles(dat2, n=100)])\n"
   ]
  },
  {
   "cell_type": "markdown",
   "id": "8afad817",
   "metadata": {},
   "source": [
    "### HISTOGRAMA DATOS 1"
   ]
  },
  {
   "cell_type": "code",
   "execution_count": 79,
   "id": "7686e714",
   "metadata": {},
   "outputs": [
    {
     "name": "stdout",
     "output_type": "stream",
     "text": [
      "tamaño:  50\n",
      "[128. 129. 129. 129. 131. 131. 131. 132. 133. 135. 136. 137. 137. 142.\n",
      " 142. 142. 143. 144. 145. 146. 146. 146. 146. 146. 147. 150. 151. 152.\n",
      " 152. 156. 159. 159. 159. 160. 162. 162. 162. 163. 166. 166. 167. 168.\n",
      " 172. 172. 173. 175. 178. 178. 179. 180.]\n",
      "RANGO 52.0\n",
      "[128 133 138 143 148 153 158 163 168 173] 5.2\n",
      "(array([8., 5., 3., 9., 4., 1., 7., 4., 4.]), array([128, 133, 138, 143, 148, 153, 158, 163, 168, 173], dtype=int16), <BarContainer object of 9 artists>)\n"
     ]
    },
    {
     "data": {
      "image/png": "[encoded data removed]",
      "text/plain": [
       "<Figure size 432x288 with 1 Axes>"
      ]
     },
     "metadata": {
      "needs_background": "light"
     },
     "output_type": "display_data"
    }
   ],
   "source": [
    "dat1 = np.sort(np.reshape(dat1,np.size(dat1)))\n",
    "print(\"tamaño: \", np.size(dat1))\n",
    "print(dat1)\n",
    "rango1=dat1[49]-dat1[0]\n",
    "print(\"RANGO\",rango1)\n",
    "#intervalos de la clase\n",
    "intervalos1=rango1/10\n",
    "b1=np.arange(dat1[0],dat1[49],intervalos1,dtype=np.int16)\n",
    "#b=intervalos_clase(arg2[0],arg2[49],intervalos,9)\n",
    "print(b1,intervalos1)\n",
    "fig, ax = plt.subplots()\n",
    "intervalos_clase1=ax.hist(dat1, bins=b1,range=(dat1[0],dat1[49]), linewidth=0.5, edgecolor=\"white\")\n",
    "plt.xticks(fontsize=8)\n",
    "ax.set(xlim=(126, 174), xticks=intervalos_clase1[1],\n",
    "       ylim=(0, 10), yticks=np.arange(0, 10, 1,dtype=np.int16))\n",
    "print(intervalos_clase1)\n",
    "ax.grid(True)"
   ]
  },
  {
   "cell_type": "markdown",
   "id": "95f7bbc9",
   "metadata": {},
   "source": [
    "### HISTOGRAMA DATOS 2"
   ]
  },
  {
   "cell_type": "code",
   "execution_count": 81,
   "id": "3cfcd664",
   "metadata": {},
   "outputs": [
    {
     "name": "stdout",
     "output_type": "stream",
     "text": [
      "tamaño:  50\n",
      "[1.2  1.22 1.23 1.24 1.24 1.25 1.28 1.29 1.29 1.29 1.29 1.3  1.31 1.31\n",
      " 1.32 1.32 1.34 1.35 1.37 1.39 1.39 1.4  1.41 1.41 1.42 1.42 1.44 1.44\n",
      " 1.45 1.49 1.49 1.49 1.5  1.5  1.51 1.51 1.52 1.52 1.53 1.53 1.54 1.55\n",
      " 1.56 1.56 1.57 1.57 1.57 1.58 1.59 1.6 ]\n",
      "RANGO 0.39999998\n",
      "[1.2  1.24 1.28 1.32 1.36 1.4  1.44 1.48 1.52 1.56] 0.03999999761581421\n",
      "(array([4., 2., 9., 2., 4., 6., 1., 7., 6.]), array([1.2 , 1.24, 1.28, 1.32, 1.36, 1.4 , 1.44, 1.48, 1.52, 1.56],\n",
      "      dtype=float16), <BarContainer object of 9 artists>)\n"
     ]
    },
    {
     "data": {
      "image/png": "[encoded data removed]",
      "text/plain": [
       "<Figure size 432x288 with 1 Axes>"
      ]
     },
     "metadata": {
      "needs_background": "light"
     },
     "output_type": "display_data"
    }
   ],
   "source": [
    "dat2 = np.sort(np.reshape(dat2,np.size(dat2)))\n",
    "print(\"tamaño: \", np.size(dat2))\n",
    "print(dat2)\n",
    "rango2=dat2[49]-dat2[0]\n",
    "\n",
    "print(\"RANGO\",rango2)\n",
    "#intervalos de la clase\n",
    "intervalos2=rango2/10\n",
    "b2=np.arange(dat2[0],dat2[49],intervalos2,dtype=np.float16)\n",
    "b2 = np.round(b2, decimals=2)\n",
    "#b=intervalos_clase(arg2[0],arg2[49],intervalos,9)\n",
    "print(b2,intervalos2)\n",
    "fig, ax = plt.subplots()\n",
    "intervalos_clase2=ax.hist(dat2, bins=b2,range=(dat2[0],dat2[49]), linewidth=0.5, edgecolor=\"white\")\n",
    "plt.xticks(fontsize=8)\n",
    "\n",
    "ax.set(xlim=(1.19, 1.57), xticks=intervalos_clase2[1],\n",
    "       ylim=(0, 10), yticks=np.arange(0, 10, 1,dtype=np.int16))\n",
    "print(intervalos_clase2)\n",
    "ax.grid(True)"
   ]
  }
 ],
 "metadata": {
  "kernelspec": {
   "display_name": "Python 3 (ipykernel)",
   "language": "python",
   "name": "python3"
  },
  "language_info": {
   "codemirror_mode": {
    "name": "ipython",
    "version": 3
   },
   "file_extension": ".py",
   "mimetype": "text/x-python",
   "name": "python",
   "nbconvert_exporter": "python",
   "pygments_lexer": "ipython3",
   "version": "3.9.12"
  }
 },
 "nbformat": 4,
 "nbformat_minor": 5
}
