{
 "cells": [
  {
   "cell_type": "code",
   "execution_count": 1,
   "id": "ecf6cac3",
   "metadata": {},
   "outputs": [],
   "source": [
    "import matplotlib.pyplot as plt\n",
    "import numpy as np\n",
    "import statistics as sts"
   ]
  },
  {
   "cell_type": "code",
   "execution_count": 4,
   "id": "2808dde1",
   "metadata": {},
   "outputs": [
    {
     "name": "stdout",
     "output_type": "stream",
     "text": [
      "[[128. 154. 140. 122. 154. 135. 159. 167. 142. 144.]\n",
      " [136. 148. 130. 137. 146. 143. 162. 154. 146. 147.]\n",
      " [158. 116. 179. 141. 139. 129. 164. 175. 149. 128.]\n",
      " [136. 163. 132. 137. 145. 144. 150. 145. 170. 181.]\n",
      " [151. 135. 125. 125. 160. 156. 155. 138. 153. 147.]]\n",
      "(5, 10)\n",
      "tamaño:  50\n",
      "[116. 122. 125. 125. 128. 128. 129. 130. 132. 135. 135. 136. 136. 137.\n",
      " 137. 138. 139. 140. 141. 142. 143. 144. 144. 145. 145. 146. 146. 147.\n",
      " 147. 148. 149. 150. 151. 153. 154. 154. 154. 155. 156. 158. 159. 160.\n",
      " 162. 163. 164. 167. 170. 175. 179. 181.]\n",
      "RANGO 65.0\n",
      "[116 123 130 137 144 151 158 165 172] 7.222222222222222\n",
      "(array([ 2.,  5.,  6.,  8., 11.,  7.,  6.,  2.]), array([116, 123, 130, 137, 144, 151, 158, 165, 172], dtype=int16), <BarContainer object of 8 artists>)\n"
     ]
    },
    {
     "data": {
      "image/png": "[encoded data removed]",
      "text/plain": [
       "<Figure size 432x288 with 1 Axes>"
      ]
     },
     "metadata": {
      "needs_background": "light"
     },
     "output_type": "display_data"
    }
   ],
   "source": [
    "arg1 = np.loadtxt('./datos2.csv',delimiter=\",\",dtype=np.float32)\n",
    "print(arg1)\n",
    "print(arg1.shape)\n",
    "arg2 = np.sort(np.reshape(arg1,50))\n",
    "print(\"tamaño: \", np.size(arg2))\n",
    "print(arg2)\n",
    "rango=arg2[49]-arg2[0]\n",
    "print(\"RANGO\",rango)\n",
    "#intervalos de la clase\n",
    "intervalos=rango/9\n",
    "b=np.arange(arg2[0],arg2[49],intervalos,dtype=np.int16)\n",
    "#b=intervalos_clase(arg2[0],arg2[49],intervalos,9)\n",
    "print(b,intervalos)\n",
    "fig, ax = plt.subplots()\n",
    "intervalos_clase=ax.hist(arg2, bins=b,range=(arg2[0],arg2[49]), linewidth=0.5, edgecolor=\"white\")\n",
    "plt.xticks(fontsize=8)\n",
    "ax.set(xlim=(100, 190), xticks=intervalos_clase[1],\n",
    "       ylim=(0, 14), yticks=np.arange(0, 14, 1,dtype=np.int16))\n",
    "print(intervalos_clase)\n",
    "ax.grid(True)"
   ]
  },
  {
   "cell_type": "code",
   "execution_count": null,
   "id": "6f8e321b",
   "metadata": {},
   "outputs": [],
   "source": []
  }
 ],
 "metadata": {
  "kernelspec": {
   "display_name": "Python 3 (ipykernel)",
   "language": "python",
   "name": "python3"
  },
  "language_info": {
   "codemirror_mode": {
    "name": "ipython",
    "version": 3
   },
   "file_extension": ".py",
   "mimetype": "text/x-python",
   "name": "python",
   "nbconvert_exporter": "python",
   "pygments_lexer": "ipython3",
   "version": "3.9.12"
  }
 },
 "nbformat": 4,
 "nbformat_minor": 5
}
