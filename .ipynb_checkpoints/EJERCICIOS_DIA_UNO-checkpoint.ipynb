{
 "cells": [
  {
   "cell_type": "code",
   "execution_count": 2,
   "id": "c5d06905",
   "metadata": {},
   "outputs": [],
   "source": [
    "import math"
   ]
  },
  {
   "cell_type": "markdown",
   "id": "bff04187",
   "metadata": {},
   "source": [
    "### EJERCICIO 1"
   ]
  },
  {
   "cell_type": "code",
   "execution_count": 3,
   "id": "bebcf721",
   "metadata": {},
   "outputs": [
    {
     "name": "stdout",
     "output_type": "stream",
     "text": [
      "11\n"
     ]
    }
   ],
   "source": [
    "print(math.ceil(math.log(2000,2)))"
   ]
  },
  {
   "cell_type": "markdown",
   "id": "604dbc63",
   "metadata": {},
   "source": [
    "### EJERCICIO 2"
   ]
  },
  {
   "cell_type": "code",
   "execution_count": 4,
   "id": "b1f788b2",
   "metadata": {},
   "outputs": [
    {
     "name": "stdout",
     "output_type": "stream",
     "text": [
      "1.0\n"
     ]
    }
   ],
   "source": [
    "print(math.log(2,2)+math.log(1,2))"
   ]
  },
  {
   "cell_type": "markdown",
   "id": "3a4fe809",
   "metadata": {},
   "source": [
    "### EJERCICIO 3"
   ]
  },
  {
   "cell_type": "code",
   "execution_count": 4,
   "id": "da91cabe",
   "metadata": {},
   "outputs": [
    {
     "name": "stdout",
     "output_type": "stream",
     "text": [
      "6.123233995736766e-17\n",
      "1.0\n",
      "1.633123935319537e+16\n"
     ]
    }
   ],
   "source": [
    "radianes = (math.pi/180)*90\n",
    "print(math.cos(radianes))\n",
    "print(math.sin(radianes))\n",
    "print(math.tan(radianes))"
   ]
  },
  {
   "cell_type": "code",
   "execution_count": 5,
   "id": "cb82520c",
   "metadata": {},
   "outputs": [
    {
     "name": "stdout",
     "output_type": "stream",
     "text": [
      "-0.7071067811865475\n",
      "0.7071067811865476\n",
      "-1.0000000000000002\n"
     ]
    }
   ],
   "source": [
    "radianes = (math.pi/180)*135\n",
    "print(math.cos(radianes))\n",
    "print(math.sin(radianes))\n",
    "print(math.tan(radianes))"
   ]
  },
  {
   "cell_type": "code",
   "execution_count": 6,
   "id": "ab4d95e7",
   "metadata": {},
   "outputs": [
    {
     "name": "stdout",
     "output_type": "stream",
     "text": [
      "0.8660254037844384\n",
      "-0.5000000000000004\n",
      "-0.5773502691896265\n"
     ]
    }
   ],
   "source": [
    "radianes = (math.pi/180)*330\n",
    "print(math.cos(radianes))\n",
    "print(math.sin(radianes))\n",
    "print(math.tan(radianes))"
   ]
  },
  {
   "cell_type": "code",
   "execution_count": 7,
   "id": "5c31946b",
   "metadata": {},
   "outputs": [
    {
     "name": "stdout",
     "output_type": "stream",
     "text": [
      "0.8660254037844392\n",
      "0.4999999999999991\n",
      "0.5773502691896244\n"
     ]
    }
   ],
   "source": [
    "radianes = (math.pi/180)*750\n",
    "print(math.cos(radianes))\n",
    "print(math.sin(radianes))\n",
    "print(math.tan(radianes))"
   ]
  },
  {
   "cell_type": "markdown",
   "id": "b6852e8d",
   "metadata": {},
   "source": [
    "### EJERCICIO 4"
   ]
  },
  {
   "cell_type": "code",
   "execution_count": 7,
   "id": "db0fe253",
   "metadata": {},
   "outputs": [
    {
     "name": "stdout",
     "output_type": "stream",
     "text": [
      "11232000\n"
     ]
    }
   ],
   "source": [
    "#PERMUTACIONES SIN REPETICIÓN\n",
    "print(math.perm(26,3)*math.perm(10,3))"
   ]
  },
  {
   "cell_type": "code",
   "execution_count": 8,
   "id": "b2693afe",
   "metadata": {},
   "outputs": [
    {
     "name": "stdout",
     "output_type": "stream",
     "text": [
      "17576000.0\n"
     ]
    }
   ],
   "source": [
    "#PERMUTACIONES CON REPETICION\n",
    "print(math.pow(26,3)*math.pow(10,3))"
   ]
  },
  {
   "cell_type": "markdown",
   "id": "b3fab36c",
   "metadata": {},
   "source": [
    "### EJERCICIO 5"
   ]
  },
  {
   "cell_type": "code",
   "execution_count": 9,
   "id": "537a389f",
   "metadata": {},
   "outputs": [
    {
     "name": "stdout",
     "output_type": "stream",
     "text": [
      "10\n"
     ]
    }
   ],
   "source": [
    "print(math.comb(5,3))"
   ]
  }
 ],
 "metadata": {
  "kernelspec": {
   "display_name": "Python 3 (ipykernel)",
   "language": "python",
   "name": "python3"
  },
  "language_info": {
   "codemirror_mode": {
    "name": "ipython",
    "version": 3
   },
   "file_extension": ".py",
   "mimetype": "text/x-python",
   "name": "python",
   "nbconvert_exporter": "python",
   "pygments_lexer": "ipython3",
   "version": "3.9.12"
  }
 },
 "nbformat": 4,
 "nbformat_minor": 5
}
