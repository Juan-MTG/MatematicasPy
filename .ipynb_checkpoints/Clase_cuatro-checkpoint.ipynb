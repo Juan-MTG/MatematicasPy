{
 "cells": [
  {
   "cell_type": "code",
   "execution_count": 1,
   "id": "c97c8e18",
   "metadata": {},
   "outputs": [],
   "source": [
    "import matplotlib.pyplot as plt\n",
    "import numpy as np"
   ]
  },
  {
   "cell_type": "code",
   "execution_count": 19,
   "id": "21b19d69",
   "metadata": {},
   "outputs": [
    {
     "name": "stdout",
     "output_type": "stream",
     "text": [
      "[ 0  1  2  3  4  5  6  7  8  9 10 11 12 13 14]\n",
      "---------------SELECCIÓN-----------------------\n",
      "6\n",
      "---------------SELECCIÓN DATOS-----------------------\n",
      "[[2 2 3]\n",
      " [1 0 1]\n",
      " [1 1 5]\n",
      " [0 0 1]]\n"
     ]
    }
   ],
   "source": [
    "rnd = np.random.default_rng(666)\n",
    "datos = np.arange(15)\n",
    "print(datos)\n",
    "probabilidades = np.array(\n",
    "    [0.3, 0.2, 0.1, 0.05, .05, 0.05, 0.05, 0.025,\n",
    "    0.025, 0.025, 0.025, 0.025, 0.025, 0.025, 0.025]\n",
    ")\n",
    "#Puede mandar mensaje en el error si no cumple la condición\n",
    "assert round(sum(probabilidades), 10) == 1.0, \"la probabilidad debe sumar 1\"\n",
    "\n",
    "print(\"---------------SELECCIÓN-----------------------\")\n",
    "#Solo nos devuelve uno, si no le especificamos el tamaño\n",
    "seleccion = rnd.choice(datos,p = probabilidades,replace = True)\n",
    "print(seleccion)\n",
    "print(\"---------------SELECCIÓN DATOS-----------------------\")\n",
    "#nos devuelve un arreglo de 4x3 ya que se lo especificamos\n",
    "seleccion_datos = rnd.choice(datos,p = probabilidades, replace = True, size=(4,3))\n",
    "print(seleccion_datos)"
   ]
  },
  {
   "cell_type": "code",
   "execution_count": 39,
   "id": "b8b21426",
   "metadata": {},
   "outputs": [
    {
     "name": "stdout",
     "output_type": "stream",
     "text": [
      "[[0.15547943 0.02732456 0.43175265]\n",
      " [0.34600938 0.95133854 0.74854701]\n",
      " [0.84599568 0.9449779  0.27889912]]\n",
      "---------------------rndF------------\n",
      "[41.73103919 94.6220093  57.66830515 49.45075425 86.22198534 35.5118425\n",
      " 51.30841467 69.70936804 78.84595123 39.3392235 ]\n",
      "---------------------rndEnteros------------\n",
      "[ 8 11  5  6 12  9 11  8]\n",
      "---------------------DISTRIBUCION------------\n",
      "[8 4 2 3 3 1 5 7 4 1 1 6 6 4 4 9 4 3 8 9]\n"
     ]
    },
    {
     "data": {
      "image/png": "[encoded data removed]",
      "text/plain": [
       "<Figure size 432x288 with 1 Axes>"
      ]
     },
     "metadata": {
      "needs_background": "light"
     },
     "output_type": "display_data"
    }
   ],
   "source": [
    "#EJEMPLO 2, ahora con random\n",
    "rnd2 = np.random.default_rng(2456)\n",
    "rndFlotantes = rnd2.random(size = (3,3))\n",
    "print(rndFlotantes)\n",
    "#NUMEROS ALEATORIOS DONDE LES VOY A DAR UN RANGO\n",
    "print(\"---------------------rndF------------\")\n",
    "rndF = np.random.uniform(10,100, size = 10)\n",
    "print(rndF)\n",
    "\n",
    "print(\"---------------------rndEnteros------------\")\n",
    "rndEnteros = rnd2.integers(5,15,size=8)\n",
    "print(rndEnteros)\n",
    "\n",
    "distribucion = rnd2.integers(1,10,size = 20)\n",
    "print(\"---------------------DISTRIBUCION------------\")\n",
    "print(distribucion)\n",
    "\n",
    "fig, ax = plt.subplots()\n",
    "ax.hist(distribucion,linewidth=0.5, edgecolor=\"white\")\n",
    "ax.set_title(\"HISTOGRAMA DE NUMEROS ALEATORIOS\")\n",
    "ax.set_xlabel(\"valor\")\n",
    "ax.set_ylabel(\"Frecuencia\")\n",
    "#ax.grid(True)\n",
    "plt.show()\n"
   ]
  },
  {
   "cell_type": "code",
   "execution_count": 48,
   "id": "f19302bf",
   "metadata": {},
   "outputs": [
    {
     "data": {
      "image/png": "[encoded data removed]",
      "text/plain": [
       "<Figure size 432x288 with 1 Axes>"
      ]
     },
     "metadata": {
      "needs_background": "light"
     },
     "output_type": "display_data"
    }
   ],
   "source": [
    "rnd3 = np.random.default_rng(12345)\n",
    "mu = 5.0 #valor medio\n",
    "sigma = 3 #desviación estandar\n",
    "\n",
    "rnds = rnd3.normal(loc = mu, scale = sigma, size = 1000)\n",
    "#print(rnds)\n",
    "fig, ax = plt.subplots()\n",
    "ax.hist(rnds, bins = 100)\n",
    "plt.show()"
   ]
  },
  {
   "cell_type": "code",
   "execution_count": null,
   "id": "7bfc9c12",
   "metadata": {},
   "outputs": [],
   "source": []
  }
 ],
 "metadata": {
  "kernelspec": {
   "display_name": "Python 3 (ipykernel)",
   "language": "python",
   "name": "python3"
  },
  "language_info": {
   "codemirror_mode": {
    "name": "ipython",
    "version": 3
   },
   "file_extension": ".py",
   "mimetype": "text/x-python",
   "name": "python",
   "nbconvert_exporter": "python",
   "pygments_lexer": "ipython3",
   "version": "3.9.12"
  }
 },
 "nbformat": 4,
 "nbformat_minor": 5
}
